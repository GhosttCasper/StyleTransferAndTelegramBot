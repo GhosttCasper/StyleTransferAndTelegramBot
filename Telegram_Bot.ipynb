{
  "nbformat": 4,
  "nbformat_minor": 0,
  "metadata": {
    "colab": {
      "name": "Telegram-Bot.ipynb",
      "provenance": [],
      "collapsed_sections": [],
      "authorship_tag": "ABX9TyMUmhsL38HuTjFSi1MRWgGO",
      "include_colab_link": true
    },
    "kernelspec": {
      "name": "python3",
      "display_name": "Python 3"
    },
    "accelerator": "GPU"
  },
  "cells": [
    {
      "cell_type": "markdown",
      "metadata": {
        "id": "view-in-github",
        "colab_type": "text"
      },
      "source": [
        "<a href=\"https://colab.research.google.com/github/GhosttCasper/StyleTransferAndTelegramBot/blob/master/Telegram_Bot.ipynb\" target=\"_parent\"><img src=\"https://colab.research.google.com/assets/colab-badge.svg\" alt=\"Open In Colab\"/></a>"
      ]
    },
    {
      "cell_type": "code",
      "metadata": {
        "id": "-OQRo1tgDm9H",
        "colab_type": "code",
        "outputId": "24334509-4034-4fd1-d2ff-5844d87f5051",
        "colab": {
          "base_uri": "https://localhost:8080/",
          "height": 153
        }
      },
      "source": [
        "!pip3 install torch torchvision\n",
        "!pip3 install pillow==4.1.1"
      ],
      "execution_count": 1,
      "outputs": [
        {
          "output_type": "stream",
          "text": [
            "Requirement already satisfied: torch in /usr/local/lib/python3.6/dist-packages (1.3.1)\n",
            "Requirement already satisfied: torchvision in /usr/local/lib/python3.6/dist-packages (0.4.2)\n",
            "Requirement already satisfied: numpy in /usr/local/lib/python3.6/dist-packages (from torch) (1.17.5)\n",
            "Requirement already satisfied: pillow>=4.1.1 in /usr/local/lib/python3.6/dist-packages (from torchvision) (4.1.1)\n",
            "Requirement already satisfied: six in /usr/local/lib/python3.6/dist-packages (from torchvision) (1.12.0)\n",
            "Requirement already satisfied: olefile in /usr/local/lib/python3.6/dist-packages (from pillow>=4.1.1->torchvision) (0.46)\n",
            "Requirement already satisfied: pillow==4.1.1 in /usr/local/lib/python3.6/dist-packages (4.1.1)\n",
            "Requirement already satisfied: olefile in /usr/local/lib/python3.6/dist-packages (from pillow==4.1.1) (0.46)\n"
          ],
          "name": "stdout"
        }
      ]
    },
    {
      "cell_type": "code",
      "metadata": {
        "id": "dzdYWq34DqH1",
        "colab_type": "code",
        "colab": {}
      },
      "source": [
        "%matplotlib inline\n",
        "\n",
        "from PIL import Image\n",
        "import torch\n",
        "import torch.nn as nn\n",
        "import torch.nn.functional as F\n",
        "import torch.optim as optim\n",
        "import torchvision.transforms as transforms\n",
        "import torchvision.models as models\n",
        "from scipy import misc\n",
        "\n",
        "import torchvision.transforms as transforms\n",
        "import torchvision.models as models\n",
        "import copy"
      ],
      "execution_count": 0,
      "outputs": []
    },
    {
      "cell_type": "code",
      "metadata": {
        "id": "Dv4dl7UpEN-G",
        "colab_type": "code",
        "colab": {}
      },
      "source": [
        "class ContentLoss(nn.Module):\n",
        "\n",
        "        def __init__(self, target,):\n",
        "            super(ContentLoss, self).__init__()\n",
        "            # we 'detach' the target content from the tree used\n",
        "            # to dynamically compute the gradient: this is a stated value,\n",
        "            # not a variable. Otherwise the forward method of the criterion\n",
        "            # will throw an error.\n",
        "            self.target = target.detach()#это константа. Убираем ее из дерева вычеслений\n",
        "            self.loss = F.mse_loss(self.target, self.target )#to initialize with something\n",
        "\n",
        "        def forward(self, input):\n",
        "            self.loss = F.mse_loss(input, self.target)\n",
        "            return input"
      ],
      "execution_count": 0,
      "outputs": []
    },
    {
      "cell_type": "code",
      "metadata": {
        "id": "X8MyOskSERGe",
        "colab_type": "code",
        "colab": {}
      },
      "source": [
        "def gram_matrix(input):\n",
        "        batch_size, h, w, f_map_num = input.size()  # batch size(=1)\n",
        "        # b=number of feature maps\n",
        "        # (h,w)=dimensions of a feature map (N=h*w)\n",
        "\n",
        "        features = input.view(batch_size * h, w * f_map_num)  # resise F_XL into \\hat F_XL\n",
        "\n",
        "        G = torch.mm(features, features.t())  # compute the gram product\n",
        "\n",
        "        # we 'normalize' the values of the gram matrix\n",
        "        # by dividing by the number of element in each feature maps.\n",
        "        return G.div(batch_size * h * w * f_map_num)"
      ],
      "execution_count": 0,
      "outputs": []
    },
    {
      "cell_type": "code",
      "metadata": {
        "id": "TCxS360nETBU",
        "colab_type": "code",
        "colab": {}
      },
      "source": [
        "class StyleLoss(nn.Module):\n",
        "        def __init__(self, target_feature):\n",
        "            super(StyleLoss, self).__init__()\n",
        "            self.target = gram_matrix(target_feature).detach()\n",
        "            self.loss = F.mse_loss(self.target, self.target)# to initialize with something\n",
        "\n",
        "        def forward(self, input):\n",
        "            G = gram_matrix(input)\n",
        "            self.loss = F.mse_loss(G, self.target)\n",
        "            return input"
      ],
      "execution_count": 0,
      "outputs": []
    },
    {
      "cell_type": "code",
      "metadata": {
        "id": "9V4bLmYHEV9w",
        "colab_type": "code",
        "colab": {}
      },
      "source": [
        "class Normalization(nn.Module):\n",
        "        def __init__(self, mean, std):\n",
        "            super(Normalization, self).__init__()\n",
        "            # .view the mean and std to make them [C x 1 x 1] so that they can\n",
        "            # directly work with image Tensor of shape [B x C x H x W].\n",
        "            # B is batch size. C is number of channels. H is height and W is width.\n",
        "            self.mean = torch.tensor(mean).view(-1, 1, 1)\n",
        "            self.std = torch.tensor(std).view(-1, 1, 1)\n",
        "\n",
        "        def forward(self, img):\n",
        "            # normalize img\n",
        "            return (img - self.mean) / self.std"
      ],
      "execution_count": 0,
      "outputs": []
    },
    {
      "cell_type": "code",
      "metadata": {
        "id": "tqYl4amOEXie",
        "colab_type": "code",
        "colab": {}
      },
      "source": [
        "content_layers_default = ['conv_4']\n",
        "style_layers_default = ['conv_1', 'conv_2', 'conv_3', 'conv_4', 'conv_5']"
      ],
      "execution_count": 0,
      "outputs": []
    },
    {
      "cell_type": "code",
      "metadata": {
        "id": "1c5OCQqaEbmw",
        "colab_type": "code",
        "colab": {}
      },
      "source": [
        "def get_style_model_and_losses(cnn, normalization_mean, normalization_std,\n",
        "                                   style_img, content_img, device,\n",
        "                                   content_layers=content_layers_default,\n",
        "                                   style_layers=style_layers_default):\n",
        "        cnn = copy.deepcopy(cnn)\n",
        "\n",
        "        # normalization module\n",
        "        normalization = Normalization(normalization_mean, normalization_std).to(device)\n",
        "\n",
        "        # just in order to have an iterable access to or list of content/syle\n",
        "        # losses\n",
        "        content_losses = []\n",
        "        style_losses = []\n",
        "\n",
        "        # assuming that cnn is a nn.Sequential, so we make a new nn.Sequential\n",
        "        # to put in modules that are supposed to be activated sequentially\n",
        "        model = nn.Sequential(normalization)\n",
        "\n",
        "        i = 0  # increment every time we see a conv\n",
        "        for layer in cnn.children():\n",
        "            if isinstance(layer, nn.Conv2d):\n",
        "                i += 1\n",
        "                name = 'conv_{}'.format(i)\n",
        "            elif isinstance(layer, nn.ReLU):\n",
        "                name = 'relu_{}'.format(i)\n",
        "                # The in-place version doesn't play very nicely with the ContentLoss\n",
        "                # and StyleLoss we insert below. So we replace with out-of-place\n",
        "                # ones here.\n",
        "                #Переопределим relu уровень\n",
        "                layer = nn.ReLU(inplace=False)\n",
        "            elif isinstance(layer, nn.MaxPool2d):\n",
        "                name = 'pool_{}'.format(i)\n",
        "            elif isinstance(layer, nn.BatchNorm2d):\n",
        "                name = 'bn_{}'.format(i)\n",
        "            else:\n",
        "                raise RuntimeError('Unrecognized layer: {}'.format(layer.__class__.__name__))\n",
        "\n",
        "            model.add_module(name, layer)\n",
        "\n",
        "            if name in content_layers:\n",
        "                # add content loss:\n",
        "                target = model(content_img).detach()\n",
        "                content_loss = ContentLoss(target)\n",
        "                model.add_module(\"content_loss_{}\".format(i), content_loss)\n",
        "                content_losses.append(content_loss)\n",
        "\n",
        "            if name in style_layers:\n",
        "                # add style loss:\n",
        "                target_feature = model(style_img).detach()\n",
        "                style_loss = StyleLoss(target_feature)\n",
        "                model.add_module(\"style_loss_{}\".format(i), style_loss)\n",
        "                style_losses.append(style_loss)\n",
        "\n",
        "        # now we trim off the layers after the last content and style losses\n",
        "        #выбрасываем все уровни после последенего styel loss или content loss\n",
        "        for i in range(len(model) - 1, -1, -1):\n",
        "            if isinstance(model[i], ContentLoss) or isinstance(model[i], StyleLoss):\n",
        "                break\n",
        "\n",
        "        model = model[:(i + 1)]\n",
        "\n",
        "        return model, style_losses, content_losses"
      ],
      "execution_count": 0,
      "outputs": []
    },
    {
      "cell_type": "code",
      "metadata": {
        "id": "nPbic9GhEdJY",
        "colab_type": "code",
        "colab": {}
      },
      "source": [
        "def get_input_optimizer(input_img):\n",
        "        # this line to show that input is a parameter that requires a gradient\n",
        "        #добоваляет содержимое тензора катринки в список изменяемых оптимизатором параметров\n",
        "        optimizer = optim.LBFGS([input_img.requires_grad_()]) \n",
        "        return optimizer"
      ],
      "execution_count": 0,
      "outputs": []
    },
    {
      "cell_type": "code",
      "metadata": {
        "id": "x2GH2NOepxAC",
        "colab_type": "code",
        "colab": {}
      },
      "source": [
        "# В данном классе мы хотим полностью производить всю обработку картинок, которые поступают к нам из телеграма.\n",
        "# Это всего лишь заготовка, поэтому не стесняйтесь менять имена функций, добавлять аргументы, свои классы и\n",
        "# все такое.\n",
        "class StyleTransferModel:\n",
        "\n",
        "    def __init__(self):\n",
        "        # Сюда необходимо перенести всю иницализацию, вроде загрузки свеерточной сети и т.д.\n",
        "        self.device = torch.device(\"cuda\" if torch.cuda.is_available() else \"cpu\")\n",
        "        self.cnn = models.vgg19(pretrained=True).features.to(self.device).eval()\n",
        "        self.cnn_normalization_mean = torch.tensor([0.485, 0.456, 0.406]).to(self.device)\n",
        "        self.cnn_normalization_std = torch.tensor([0.229, 0.224, 0.225]).to(self.device)\n",
        "\n",
        "    def transfer_style(self, content_img_stream, style_img_stream, update, context, \n",
        "                       content_img_size, num_steps = 500, style_weight = 100000, content_weight=1):               \n",
        "        # Этот метод по переданным картинкам в каком-то формате (PIL картинка, BytesIO с картинкой\n",
        "        # или numpy array на ваш выбор). В телеграм боте мы получаем поток байтов BytesIO,\n",
        "        # а мы хотим спрятать в этот метод всю работу с картинками, поэтому лучше принимать тут эти самые потоки\n",
        "        # и потом уже приводить их к PIL, а потом и к тензору, который уже можно отдать модели.\n",
        "        # В первой итерации, когда вы переносите уже готовую модель из тетрадки с занятия сюда нужно просто\n",
        "        # перенести функцию run_style_transfer (не забудьте вынести инициализацию, которая\n",
        "        # проводится один раз в конструктор.\n",
        "\n",
        "        content_img = self.process_image(content_img_stream, content_img_size)          \n",
        "        style_img = self.process_image(style_img_stream, content_img_size)          \n",
        "        input_img = content_img.clone()\n",
        "        # if you want to use white noise instead uncomment the below line:\n",
        "        # input_img = torch.randn(content_img.data.size(), device=device)\n",
        "\n",
        "        #self.send_debug_message_info_image(context, update, content_img_stream, content_img, style_img)\n",
        "\n",
        "        model, style_losses, content_losses = get_style_model_and_losses(self.cnn,\n",
        "            self.cnn_normalization_mean, self.cnn_normalization_std, style_img, content_img, self.device)\n",
        "        optimizer = get_input_optimizer(input_img)\n",
        "\n",
        "        print('Optimizing..')\n",
        "        run = [0]\n",
        "        while run[0] <= num_steps:\n",
        "\n",
        "          def closure():\n",
        "            # correct the values \n",
        "            # это для того, чтобы значения тензора картинки не выходили за пределы [0;1]\n",
        "            input_img.data.clamp_(0, 1)\n",
        "\n",
        "            optimizer.zero_grad()\n",
        "            \n",
        "            model(input_img)\n",
        "            \n",
        "            style_score = 0\n",
        "            content_score = 0\n",
        "            \n",
        "            for sl in style_losses:\n",
        "              style_score += sl.loss\n",
        "            for cl in content_losses:\n",
        "              content_score += cl.loss\n",
        "\n",
        "            #взвешивание ощибки\n",
        "            style_score *= style_weight\n",
        "            content_score *= content_weight\n",
        "\n",
        "            loss = style_score + content_score\n",
        "            loss.backward()\n",
        "\n",
        "            run[0] += 1\n",
        "            return style_score + content_score\n",
        "            \n",
        "          optimizer.step(closure)\n",
        "\n",
        "        # a last correction...\n",
        "        input_img.data.clamp_(0, 1) \n",
        "        return self.tensor_to_PIL(input_img)\n",
        "        # Сейчас этот метод просто возвращает не измененную content картинку\n",
        "        # Для наглядности мы сначала переводим ее в тензор, а потом обратно\n",
        "        #return misc.toimage(self.process_image(content_img_stream)[0])\n",
        "\n",
        "    # В run_style_transfer используется много внешних функций, их можно добавить как функции класса\n",
        "    # Если понятно, что функция является служебной и снаружи использоваться не должна, то перед именем функции\n",
        "    # принято ставить _ (выглядит это так: def _foo() )\n",
        "    # Эта функция тоже не является\n",
        "    def process_image(self, img_stream, size):\n",
        "        image = self.Bytes_stream_to_PIL(img_stream)\n",
        "        return self.PIL_to_tensor(image, self.device, size)\n",
        "    \n",
        "    def Bytes_stream_to_PIL(self, img_stream):      \n",
        "      img_stream.seek(0)\n",
        "      image = Image.open(img_stream) # приведение потока байтов io.BytesIO к PIL изображению\n",
        "      return image\n",
        "\n",
        "    def PIL_to_tensor(self, image, device, size):\n",
        "      loader = transforms.Compose([\n",
        "              transforms.Resize(size),  # нормируем размер изображения\n",
        "              transforms.CenterCrop(size),\n",
        "              transforms.ToTensor()])  # превращаем в удобный формат\n",
        "              \n",
        "      image = loader(image).unsqueeze(0) # PIL_to_tensor\n",
        "      return image.to(device, torch.float)\n",
        "    \n",
        "    def tensor_to_PIL(self, tensor):\n",
        "      image = tensor.cpu().clone()\n",
        "      #image = image.squeeze(0)\n",
        "      unloader = transforms.ToPILImage()  # reconvert into PIL image    \n",
        "      return unloader(image[0])\n",
        "\n",
        "    def send_debug_message_info_image(self, context, update, content_img_stream, content_img, style_img):\n",
        "      context.bot.send_message(chat_id=update.effective_chat.id, text=\"Building the style transfer model\")   \n",
        "      context.bot.send_message(chat_id=update.effective_chat.id, text=\"content_img_stream {}\".format(content_img_stream))\n",
        "      context.bot.send_message(chat_id=update.effective_chat.id, text=\"content_img {}\".format(content_img))\n",
        "      context.bot.send_message(chat_id=update.effective_chat.id, text=\"style_img {}\".format(style_img))"
      ],
      "execution_count": 0,
      "outputs": []
    },
    {
      "cell_type": "code",
      "metadata": {
        "id": "TgLsiUsdrSgC",
        "colab_type": "code",
        "outputId": "13f85e0c-2ac8-4cd6-eb81-02e9cb588f13",
        "colab": {
          "base_uri": "https://localhost:8080/",
          "height": 1000
        }
      },
      "source": [
        "!pip install python-telegram-bot --upgrade\n",
        "!pip install tornado==4.5.1 distributed==1.21 dask-ml[complete]\n",
        "#!pip install python-telegram-bot==4.0rc1"
      ],
      "execution_count": 11,
      "outputs": [
        {
          "output_type": "stream",
          "text": [
            "Requirement already up-to-date: python-telegram-bot in /usr/local/lib/python3.6/dist-packages (12.3.0)\n",
            "Requirement already satisfied, skipping upgrade: future>=0.16.0 in /usr/local/lib/python3.6/dist-packages (from python-telegram-bot) (0.16.0)\n",
            "Processing /root/.cache/pip/wheels/84/bf/40/2f6ef700f48401ca40e5e3dd7d0e3c0a90e064897b7fe5fc08/tornado-6.0.3-cp36-cp36m-linux_x86_64.whl\n",
            "Requirement already satisfied, skipping upgrade: cryptography in /usr/local/lib/python3.6/dist-packages (from python-telegram-bot) (2.8)\n",
            "Requirement already satisfied, skipping upgrade: certifi in /usr/local/lib/python3.6/dist-packages (from python-telegram-bot) (2019.11.28)\n",
            "Requirement already satisfied, skipping upgrade: cffi!=1.11.3,>=1.8 in /usr/local/lib/python3.6/dist-packages (from cryptography->python-telegram-bot) (1.13.2)\n",
            "Requirement already satisfied, skipping upgrade: six>=1.4.1 in /usr/local/lib/python3.6/dist-packages (from cryptography->python-telegram-bot) (1.12.0)\n",
            "Requirement already satisfied, skipping upgrade: pycparser in /usr/local/lib/python3.6/dist-packages (from cffi!=1.11.3,>=1.8->cryptography->python-telegram-bot) (2.19)\n",
            "\u001b[31mERROR: google-colab 1.0.0 has requirement tornado~=4.5.0, but you'll have tornado 6.0.3 which is incompatible.\u001b[0m\n",
            "\u001b[31mERROR: dask-ml 1.2.0 has requirement distributed>=2.4.0, but you'll have distributed 1.21.0 which is incompatible.\u001b[0m\n",
            "Installing collected packages: tornado\n",
            "  Found existing installation: tornado 4.5.1\n",
            "    Uninstalling tornado-4.5.1:\n",
            "      Successfully uninstalled tornado-4.5.1\n",
            "Successfully installed tornado-6.0.3\n"
          ],
          "name": "stdout"
        },
        {
          "output_type": "display_data",
          "data": {
            "application/vnd.colab-display-data+json": {
              "pip_warning": {
                "packages": [
                  "tornado"
                ]
              }
            }
          },
          "metadata": {
            "tags": []
          }
        },
        {
          "output_type": "stream",
          "text": [
            "Processing /root/.cache/pip/wheels/4c/f7/7d/479f75b6f637b44b9fc5749de49a5d21d8e3a8d5907e37fc6e/tornado-4.5.1-cp36-cp36m-linux_x86_64.whl\n",
            "Requirement already satisfied: distributed==1.21 in /usr/local/lib/python3.6/dist-packages (1.21.0)\n",
            "Requirement already satisfied: dask-ml[complete] in /usr/local/lib/python3.6/dist-packages (1.2.0)\n",
            "Requirement already satisfied: click>=6.6 in /usr/local/lib/python3.6/dist-packages (from distributed==1.21) (7.0)\n",
            "Requirement already satisfied: tblib in /usr/local/lib/python3.6/dist-packages (from distributed==1.21) (1.6.0)\n",
            "Requirement already satisfied: sortedcontainers in /usr/local/lib/python3.6/dist-packages (from distributed==1.21) (2.1.0)\n",
            "Requirement already satisfied: psutil in /usr/local/lib/python3.6/dist-packages (from distributed==1.21) (5.4.8)\n",
            "Requirement already satisfied: toolz>=0.7.4 in /usr/local/lib/python3.6/dist-packages (from distributed==1.21) (0.10.0)\n",
            "Requirement already satisfied: msgpack-python in /usr/local/lib/python3.6/dist-packages (from distributed==1.21) (0.5.6)\n",
            "Requirement already satisfied: cloudpickle>=0.2.2 in /usr/local/lib/python3.6/dist-packages (from distributed==1.21) (1.2.2)\n",
            "Requirement already satisfied: dask>=0.17.0 in /usr/local/lib/python3.6/dist-packages (from distributed==1.21) (2.9.1)\n",
            "Requirement already satisfied: zict>=0.1.3 in /usr/local/lib/python3.6/dist-packages (from distributed==1.21) (1.0.0)\n",
            "Requirement already satisfied: six in /usr/local/lib/python3.6/dist-packages (from distributed==1.21) (1.12.0)\n",
            "Requirement already satisfied: packaging in /usr/local/lib/python3.6/dist-packages (from dask-ml[complete]) (20.0)\n",
            "Requirement already satisfied: numpy>=1.17.3 in /usr/local/lib/python3.6/dist-packages (from dask-ml[complete]) (1.17.5)\n",
            "Requirement already satisfied: dask-glm>=0.2.0 in /usr/local/lib/python3.6/dist-packages (from dask-ml[complete]) (0.2.0)\n",
            "Requirement already satisfied: multipledispatch>=0.4.9 in /usr/local/lib/python3.6/dist-packages (from dask-ml[complete]) (0.6.0)\n",
            "Requirement already satisfied: scipy in /usr/local/lib/python3.6/dist-packages (from dask-ml[complete]) (1.4.1)\n",
            "Requirement already satisfied: pandas>=0.23.4 in /usr/local/lib/python3.6/dist-packages (from dask-ml[complete]) (0.25.3)\n",
            "Requirement already satisfied: numba in /usr/local/lib/python3.6/dist-packages (from dask-ml[complete]) (0.47.0)\n",
            "Requirement already satisfied: scikit-learn>=0.21 in /usr/local/lib/python3.6/dist-packages (from dask-ml[complete]) (0.22.1)\n",
            "Requirement already satisfied: dask-tensorflow; extra == \"complete\" in /usr/local/lib/python3.6/dist-packages (from dask-ml[complete]) (0.0.2)\n",
            "Requirement already satisfied: dask-xgboost; extra == \"complete\" in /usr/local/lib/python3.6/dist-packages (from dask-ml[complete]) (0.1.9)\n",
            "Requirement already satisfied: xgboost; extra == \"complete\" in /usr/local/lib/python3.6/dist-packages (from dask-ml[complete]) (0.90)\n",
            "Requirement already satisfied: tensorflow; extra == \"complete\" in /usr/local/lib/python3.6/dist-packages (from dask-ml[complete]) (1.15.0)\n",
            "Requirement already satisfied: heapdict in /usr/local/lib/python3.6/dist-packages (from zict>=0.1.3->distributed==1.21) (1.0.1)\n",
            "Requirement already satisfied: pyparsing>=2.0.2 in /usr/local/lib/python3.6/dist-packages (from packaging->dask-ml[complete]) (2.4.6)\n",
            "Requirement already satisfied: python-dateutil>=2.6.1 in /usr/local/lib/python3.6/dist-packages (from pandas>=0.23.4->dask-ml[complete]) (2.6.1)\n",
            "Requirement already satisfied: pytz>=2017.2 in /usr/local/lib/python3.6/dist-packages (from pandas>=0.23.4->dask-ml[complete]) (2018.9)\n",
            "Requirement already satisfied: llvmlite>=0.31.0dev0 in /usr/local/lib/python3.6/dist-packages (from numba->dask-ml[complete]) (0.31.0)\n",
            "Requirement already satisfied: setuptools in /usr/local/lib/python3.6/dist-packages (from numba->dask-ml[complete]) (42.0.2)\n",
            "Requirement already satisfied: joblib>=0.11 in /usr/local/lib/python3.6/dist-packages (from scikit-learn>=0.21->dask-ml[complete]) (0.14.1)\n",
            "Requirement already satisfied: keras-applications>=1.0.8 in /usr/local/lib/python3.6/dist-packages (from tensorflow; extra == \"complete\"->dask-ml[complete]) (1.0.8)\n",
            "Requirement already satisfied: wheel>=0.26 in /usr/local/lib/python3.6/dist-packages (from tensorflow; extra == \"complete\"->dask-ml[complete]) (0.33.6)\n",
            "Requirement already satisfied: keras-preprocessing>=1.0.5 in /usr/local/lib/python3.6/dist-packages (from tensorflow; extra == \"complete\"->dask-ml[complete]) (1.1.0)\n",
            "Requirement already satisfied: astor>=0.6.0 in /usr/local/lib/python3.6/dist-packages (from tensorflow; extra == \"complete\"->dask-ml[complete]) (0.8.1)\n",
            "Requirement already satisfied: grpcio>=1.8.6 in /usr/local/lib/python3.6/dist-packages (from tensorflow; extra == \"complete\"->dask-ml[complete]) (1.15.0)\n",
            "Requirement already satisfied: protobuf>=3.6.1 in /usr/local/lib/python3.6/dist-packages (from tensorflow; extra == \"complete\"->dask-ml[complete]) (3.10.0)\n",
            "Requirement already satisfied: absl-py>=0.7.0 in /usr/local/lib/python3.6/dist-packages (from tensorflow; extra == \"complete\"->dask-ml[complete]) (0.9.0)\n",
            "Requirement already satisfied: tensorboard<1.16.0,>=1.15.0 in /usr/local/lib/python3.6/dist-packages (from tensorflow; extra == \"complete\"->dask-ml[complete]) (1.15.0)\n",
            "Requirement already satisfied: google-pasta>=0.1.6 in /usr/local/lib/python3.6/dist-packages (from tensorflow; extra == \"complete\"->dask-ml[complete]) (0.1.8)\n",
            "Requirement already satisfied: tensorflow-estimator==1.15.1 in /usr/local/lib/python3.6/dist-packages (from tensorflow; extra == \"complete\"->dask-ml[complete]) (1.15.1)\n",
            "Requirement already satisfied: wrapt>=1.11.1 in /usr/local/lib/python3.6/dist-packages (from tensorflow; extra == \"complete\"->dask-ml[complete]) (1.11.2)\n",
            "Requirement already satisfied: opt-einsum>=2.3.2 in /usr/local/lib/python3.6/dist-packages (from tensorflow; extra == \"complete\"->dask-ml[complete]) (3.1.0)\n",
            "Requirement already satisfied: gast==0.2.2 in /usr/local/lib/python3.6/dist-packages (from tensorflow; extra == \"complete\"->dask-ml[complete]) (0.2.2)\n",
            "Requirement already satisfied: termcolor>=1.1.0 in /usr/local/lib/python3.6/dist-packages (from tensorflow; extra == \"complete\"->dask-ml[complete]) (1.1.0)\n",
            "Requirement already satisfied: h5py in /usr/local/lib/python3.6/dist-packages (from keras-applications>=1.0.8->tensorflow; extra == \"complete\"->dask-ml[complete]) (2.8.0)\n",
            "Requirement already satisfied: werkzeug>=0.11.15 in /usr/local/lib/python3.6/dist-packages (from tensorboard<1.16.0,>=1.15.0->tensorflow; extra == \"complete\"->dask-ml[complete]) (0.16.0)\n",
            "Requirement already satisfied: markdown>=2.6.8 in /usr/local/lib/python3.6/dist-packages (from tensorboard<1.16.0,>=1.15.0->tensorflow; extra == \"complete\"->dask-ml[complete]) (3.1.1)\n",
            "\u001b[31mERROR: python-telegram-bot 12.3.0 has requirement tornado>=5.1, but you'll have tornado 4.5.1 which is incompatible.\u001b[0m\n",
            "\u001b[31mERROR: dask-ml 1.2.0 has requirement distributed>=2.4.0, but you'll have distributed 1.21.0 which is incompatible.\u001b[0m\n",
            "Installing collected packages: tornado\n",
            "  Found existing installation: tornado 6.0.3\n",
            "    Uninstalling tornado-6.0.3:\n",
            "      Successfully uninstalled tornado-6.0.3\n",
            "Successfully installed tornado-4.5.1\n"
          ],
          "name": "stdout"
        },
        {
          "output_type": "display_data",
          "data": {
            "application/vnd.colab-display-data+json": {
              "pip_warning": {
                "packages": [
                  "tornado"
                ]
              }
            }
          },
          "metadata": {
            "tags": []
          }
        }
      ]
    },
    {
      "cell_type": "code",
      "metadata": {
        "id": "PdYC88Ozt_eQ",
        "colab_type": "code",
        "outputId": "61664892-bf7f-4e75-ad97-4d490a6cf74b",
        "colab": {
          "base_uri": "https://localhost:8080/",
          "height": 34
        }
      },
      "source": [
        "import telegram\n",
        "TOKEN = '833755366:AAFPZ05JsDq3aFcGn7WP59kXa60L7Dp-Iec'\n",
        "bot = telegram.Bot(token=TOKEN)\n",
        "print(bot.get_me())"
      ],
      "execution_count": 12,
      "outputs": [
        {
          "output_type": "stream",
          "text": [
            "{'id': 833755366, 'first_name': 'BotStyleTransfer', 'is_bot': True, 'username': 'StyleTransferPictureBot'}\n"
          ],
          "name": "stdout"
        }
      ]
    },
    {
      "cell_type": "code",
      "metadata": {
        "id": "wx9OYS0ADD01",
        "colab_type": "code",
        "colab": {}
      },
      "source": [
        "from telegram.ext import Updater\n",
        "from telegram.ext.dispatcher import run_async\n",
        "updater = Updater(token=TOKEN, request_kwargs={'proxy_url': 'socks5h://163.172.152.192:1080'}, use_context=True)\n",
        "dispatcher = updater.dispatcher"
      ],
      "execution_count": 0,
      "outputs": []
    },
    {
      "cell_type": "code",
      "metadata": {
        "id": "0nBPnSo3IMux",
        "colab_type": "code",
        "colab": {}
      },
      "source": [
        "import logging\n",
        "logging.basicConfig(format='%(asctime)s - %(name)s - %(levelname)s - %(message)s',\n",
        "                     level=logging.INFO)\n",
        "logger = logging.getLogger(__name__)"
      ],
      "execution_count": 0,
      "outputs": []
    },
    {
      "cell_type": "code",
      "metadata": {
        "id": "OzsGz9aEnl_f",
        "colab_type": "code",
        "colab": {}
      },
      "source": [
        "def build_menu(buttons,\n",
        "               n_cols,\n",
        "               header_buttons=None,\n",
        "               footer_buttons=None):\n",
        "    menu = [buttons[i:i + n_cols] for i in range(0, len(buttons), n_cols)]\n",
        "    if header_buttons:\n",
        "        menu.insert(0, [header_buttons])\n",
        "    if footer_buttons:\n",
        "        menu.append([footer_buttons])\n",
        "    return menu"
      ],
      "execution_count": 0,
      "outputs": []
    },
    {
      "cell_type": "code",
      "metadata": {
        "id": "Teno_oejnyM2",
        "colab_type": "code",
        "colab": {}
      },
      "source": [
        "from telegram import ReplyKeyboardMarkup, KeyboardButton\n",
        "from telegram.ext import Updater, CommandHandler, MessageHandler, filters\n",
        "def start2(update, context):\n",
        "    button_list = [\n",
        "    KeyboardButton(\"Загрузить фото\", callback_data=...),\n",
        "    #KeyboardButton(\"col2\", callback_data=...),\n",
        "    #KeyboardButton(\"row 2\", callback_data=...)\n",
        "    ]\n",
        "    reply_markup = ReplyKeyboardMarkup(button_list) #build_menu(button_list, n_cols=1)\n",
        "    bot.send_message(update.message.chat_id, \"I'm a bot, please send 2 pictures to me!\", reply_markup=reply_markup)"
      ],
      "execution_count": 0,
      "outputs": []
    },
    {
      "cell_type": "code",
      "metadata": {
        "id": "QYz12x8nIY0a",
        "colab_type": "code",
        "colab": {}
      },
      "source": [
        "def start(update, context):\n",
        "    start_message_ru = \"Я бот, пожалуйста, поговори со мной или отправь 2 фотографии - контент и стиль! \\nКонтент - это фото, к которой будет применён стиль второй картинки.\"\n",
        "    start_message_en = \"I'm a bot, please talk to me or send content and style photos!\"\n",
        "    context.bot.send_message(chat_id=update.effective_chat.id, text=start_message_ru)\n",
        "\n",
        "from telegram.ext import CommandHandler\n",
        "start_handler = CommandHandler('start', start)\n",
        "dispatcher.add_handler(start_handler)"
      ],
      "execution_count": 0,
      "outputs": []
    },
    {
      "cell_type": "code",
      "metadata": {
        "id": "vumbOUndKP17",
        "colab_type": "code",
        "colab": {}
      },
      "source": [
        "def echo(update, context):\n",
        "    context.bot.send_message(chat_id=update.effective_chat.id, text=update.message.text)\n",
        "\n",
        "from telegram.ext import MessageHandler, Filters\n",
        "echo_handler = MessageHandler(Filters.text, echo)\n",
        "dispatcher.add_handler(echo_handler)"
      ],
      "execution_count": 0,
      "outputs": []
    },
    {
      "cell_type": "code",
      "metadata": {
        "id": "uM0bnDqM_8vf",
        "colab_type": "code",
        "colab": {}
      },
      "source": [
        "from io import BytesIO\n",
        "\n",
        "# В бейзлайне пример того, как мы можем обрабатывать две картинки, пришедшие от пользователя.\n",
        "\n",
        "model = StyleTransferModel()\n",
        "first_image_file = {}\n",
        "first_image_info = {}\n",
        "\n",
        "def send_prediction_on_photo(update, context):\n",
        "    # Нам нужно получить две картинки, чтобы произвести перенос стиля, но каждая картинка приходит в\n",
        "    # отдельном апдейте, поэтому в простейшем случае мы будем сохранять id первой картинки в память,\n",
        "    # чтобы, когда уже придет вторая, мы могли загрузить в память уже сами картинки и обработать их.\n",
        "    # Точно место для улучшения, я бы\n",
        "\n",
        "    try:  \n",
        "      chat_id = update.message.chat_id    \n",
        "      print(\"Got image from {}\".format(chat_id)) #context.bot.send_message(chat_id=update.effective_chat.id, text=\"Got image from {}\".format(chat_id))\n",
        "\n",
        "      # получаем информацию о картинке\n",
        "      image_info = update.message.photo[-1]    \n",
        "      image_file = bot.get_file(image_info)\n",
        "      #send_debug_message(update, context, image_info, image_file, first_image_file)\n",
        "      \n",
        "      if chat_id in first_image_file:\n",
        "          # первая картинка, которая к нам пришла станет content image, а вторая style image\n",
        "          content_image_stream = BytesIO()\n",
        "          first_image_file[chat_id].download(out=content_image_stream)    # загружаем первую content картинку\n",
        "          first_image_size = [first_image_info[chat_id].height, first_image_info[chat_id].width]\n",
        "          del first_image_file[chat_id]\n",
        "          del first_image_info[chat_id]\n",
        "\n",
        "          style_image_stream = BytesIO() \n",
        "          image_file.download(out=style_image_stream)\n",
        "\n",
        "          message_second_picture =\"Отлично! Применяю стиль к первой картинке. Сразу после выполнения отправлю результат!\"\n",
        "          context.bot.send_message(chat_id=update.effective_chat.id, text = message_second_picture)\n",
        "\n",
        "          output = model.transfer_style(content_img_stream = content_image_stream, style_img_stream = style_image_stream, update=update, \n",
        "                                        context=context, content_img_size = first_image_size) # Построение модели transfer_style\n",
        "          # теперь отправим назад фото\n",
        "          output_stream = BytesIO()\n",
        "          output.save(output_stream, format='PNG')\n",
        "          output_stream.seek(0)\n",
        "          message_result = \"Готово!\"\n",
        "          context.bot.send_message(chat_id=update.effective_chat.id, text = message_result)\n",
        "          bot.send_photo(chat_id, photo=output_stream)\n",
        "\n",
        "          message_end = \"Экспериментируй, получай новые картинки! Снова отправляй 2 фото!\"\n",
        "          context.bot.send_message(chat_id=update.effective_chat.id, text=message_end)\n",
        "          print(\"Sent Photo to user\")      \n",
        "      else:\n",
        "          first_image_file[chat_id] = image_file\n",
        "          first_image_info[chat_id] = image_info\n",
        "          message_first_picture = \"Молодец! У тебя получилось отправить первую картинку. Теперь отправь ещё одну картинку, стиль которой будет применён к первой.\"\n",
        "          context.bot.send_message(chat_id=update.effective_chat.id, text=message_first_picture)\n",
        "\n",
        "    except Exception as inst:\n",
        "      error_message = \"Что-то пошло не так. Пожалуйста, попробуйте снова и отправьте сообщение об ошибке программисту @GhosttCasper\"\n",
        "      context.bot.send_message(chat_id=update.effective_chat.id, text=error_message)\n",
        "      context.bot.send_message(chat_id=update.effective_chat.id, text=\"Ошибка: {}\".format(type(inst))) # экземпляр исключения\n",
        "      context.bot.send_message(chat_id=update.effective_chat.id, text=\"{}\".format(inst.args))    # аргументы хранимые в .args\n",
        "      context.bot.send_message(chat_id=update.effective_chat.id, text=\"{}\".format(inst))         # __str__ позволяет вывести аргументы сразу\n",
        "\n",
        "def send_debug_message(update, context, image_info, image_file, first_image_file):\n",
        "    width = image_info.width\n",
        "    height = image_info.height  \n",
        "    context.bot.send_message(chat_id=update.effective_chat.id, text=\"image_info {}\".format(image_info))    \n",
        "    context.bot.send_message(chat_id=update.effective_chat.id, text=\"image_file {}\".format(image_file))\n",
        "    context.bot.send_message(chat_id=update.effective_chat.id, text=\"first_image_file {}\".format(first_image_file))\n",
        "    context.bot.send_message(chat_id=update.effective_chat.id, text=\"width {}\".format(width))\n",
        "    context.bot.send_message(chat_id=update.effective_chat.id, text=\"height {}\".format(height))"
      ],
      "execution_count": 0,
      "outputs": []
    },
    {
      "cell_type": "code",
      "metadata": {
        "id": "qjga5CL5N_z2",
        "colab_type": "code",
        "colab": {}
      },
      "source": [
        "from telegram.ext import MessageHandler, Filters\n",
        "photo_handler = MessageHandler(Filters.photo, send_prediction_on_photo)\n",
        "updater.dispatcher.add_handler(photo_handler)"
      ],
      "execution_count": 0,
      "outputs": []
    },
    {
      "cell_type": "code",
      "metadata": {
        "id": "cO_eIveJ2UlH",
        "colab_type": "code",
        "colab": {}
      },
      "source": [
        "def logs(update, context):\n",
        "    context.bot.send_message(chat_id=update.effective_chat.id, text=\"{}\".format(logging.getLogger(__name__)))\n",
        "    context.bot.send_message(chat_id=update.effective_chat.id, text=\"{}\".format(logging.getLogger))\n",
        "\n",
        "log_handler = CommandHandler('logs', logs)\n",
        "dispatcher.add_handler(log_handler)"
      ],
      "execution_count": 0,
      "outputs": []
    },
    {
      "cell_type": "code",
      "metadata": {
        "id": "M4nUHTNcR3uP",
        "colab_type": "code",
        "colab": {}
      },
      "source": [
        "def caps(update, context):\n",
        "    text_caps = ' '.join(context.args).upper()\n",
        "    context.bot.send_message(chat_id=update.effective_chat.id, text=text_caps)\n",
        "\n",
        "caps_handler = CommandHandler('caps', caps)\n",
        "dispatcher.add_handler(caps_handler)"
      ],
      "execution_count": 0,
      "outputs": []
    },
    {
      "cell_type": "code",
      "metadata": {
        "id": "Y5lEfhAFVmob",
        "colab_type": "code",
        "colab": {}
      },
      "source": [
        "from telegram import InlineQueryResultArticle, InputTextMessageContent\n",
        "def inline_caps(update, context):\n",
        "    query = update.inline_query.query\n",
        "    if not query:\n",
        "        return\n",
        "    results = list()\n",
        "    results.append(\n",
        "        InlineQueryResultArticle(\n",
        "            id=query.upper(),\n",
        "            title='Caps',\n",
        "            input_message_content=InputTextMessageContent(query.upper())\n",
        "        )\n",
        "    )\n",
        "    context.bot.answer_inline_query(update.inline_query.id, results)\n",
        "\n",
        "from telegram.ext import InlineQueryHandler\n",
        "inline_caps_handler = InlineQueryHandler(inline_caps)\n",
        "dispatcher.add_handler(inline_caps_handler)"
      ],
      "execution_count": 0,
      "outputs": []
    },
    {
      "cell_type": "code",
      "metadata": {
        "id": "DG0Wtwx4Xhyg",
        "colab_type": "code",
        "colab": {}
      },
      "source": [
        "def unknown(update, context):\n",
        "    context.bot.send_message(chat_id=update.effective_chat.id, text=\"Sorry, I didn't understand that command.\")\n",
        "\n",
        "unknown_handler = MessageHandler(Filters.command, unknown)\n",
        "dispatcher.add_handler(unknown_handler)"
      ],
      "execution_count": 0,
      "outputs": []
    },
    {
      "cell_type": "code",
      "metadata": {
        "id": "n_q2zuP3VpLA",
        "colab_type": "code",
        "outputId": "27379ab8-3189-45e3-c6c3-80daa78de2a5",
        "colab": {
          "base_uri": "https://localhost:8080/",
          "height": 34
        }
      },
      "source": [
        "updater.start_polling()"
      ],
      "execution_count": 25,
      "outputs": [
        {
          "output_type": "execute_result",
          "data": {
            "text/plain": [
              "<queue.Queue at 0x7f0c6c83b550>"
            ]
          },
          "metadata": {
            "tags": []
          },
          "execution_count": 25
        }
      ]
    }
  ]
}